{
  "nbformat": 4,
  "nbformat_minor": 0,
  "metadata": {
    "colab": {
      "name": "KNN_classification illustration.ipynb",
      "provenance": [],
      "collapsed_sections": []
    },
    "kernelspec": {
      "name": "python3",
      "display_name": "Python 3"
    }
  },
  "cells": [
    {
      "cell_type": "code",
      "metadata": {
        "id": "ChORYUC_GSbq",
        "colab_type": "code",
        "colab": {}
      },
      "source": [
        "import numpy as np"
      ],
      "execution_count": 0,
      "outputs": []
    },
    {
      "cell_type": "code",
      "metadata": {
        "id": "vVkju-kzHeiE",
        "colab_type": "code",
        "colab": {}
      },
      "source": [
        "import pandas as pd"
      ],
      "execution_count": 0,
      "outputs": []
    },
    {
      "cell_type": "code",
      "metadata": {
        "id": "gLaS_6qPHp37",
        "colab_type": "code",
        "colab": {}
      },
      "source": [
        "import matplotlib.pyplot as plt"
      ],
      "execution_count": 0,
      "outputs": []
    },
    {
      "cell_type": "code",
      "metadata": {
        "id": "ULq6stJIyIz7",
        "colab_type": "code",
        "colab": {}
      },
      "source": [
        "from scipy import stats"
      ],
      "execution_count": 0,
      "outputs": []
    },
    {
      "cell_type": "code",
      "metadata": {
        "id": "tvlLQo5aHuID",
        "colab_type": "code",
        "colab": {}
      },
      "source": [
        "class knn(object):\n",
        "\n",
        "  #saving the training data set\n",
        "  def fit(self,x_train,y_train,k):  \n",
        "  #k is the no. of nearest neighbours               \n",
        "    self.k = k                                     \n",
        "    self.X = np.array(x_train)\n",
        "    self.y = np.array(y_train)\n",
        "\n",
        "  #predicting the class of test data \n",
        "  def predict(self,x_test):                       \n",
        "    x = np.array(x_test)\n",
        "    m = x.shape[0]\n",
        "    y_pred = np.zeros((m,1))  \n",
        "  #finding distances between a given point and the training data \n",
        "    for a in range(m):                              \n",
        "      dist = np.sum((self.X-x[a,:])**2,axis=1)\n",
        "      dist = np.vstack((dist,self.y))\n",
        "  #arranging the distances in ascending order\n",
        "      b = np.argsort(dist[0,:])                   \n",
        "  #storing the indices of the k nearest points \n",
        "      l = b[0:self.k]                             \n",
        "  #assigning the class which is most frequent to the test point\n",
        "      y_pred[a] = stats.mode(dist[1,l]).mode        \n",
        "    return y_pred\n",
        "\n",
        "  #splitting the data set into training and test sets based on the split fraction\n",
        "  def split_train_test(self,X,y,split):            \n",
        "        m = size()\n",
        "        n = split*np.size(y,axis=0)\n",
        "        x_train = X[0:n,:]\n",
        "        x_test = X[n:,:]\n",
        "        y_train = y[0:n]\n",
        "        y_test = y[n:]\n",
        "        return x_train,x_test,y_train,y_test  \n",
        "\n",
        "  #classifies a prediction as correct only if it is equal to the original class\n",
        "  def accuracy(self,y_true,y_pred):               \n",
        "    m = len(y_true)\n",
        "    acc=0\n",
        "    for a in range(m):\n",
        "      if y_pred[a]==y_true[a]: acc+=1\n",
        "    return (acc*100)/m"
      ],
      "execution_count": 0,
      "outputs": []
    },
    {
      "cell_type": "code",
      "metadata": {
        "id": "fYFbvg7QxL0K",
        "colab_type": "code",
        "colab": {}
      },
      "source": [
        "df1 = pd.read_csv(\"sample_data/mnist_train_small.csv\",header = None)"
      ],
      "execution_count": 0,
      "outputs": []
    },
    {
      "cell_type": "code",
      "metadata": {
        "id": "lvzoVe991qXd",
        "colab_type": "code",
        "colab": {}
      },
      "source": [
        "df2 = pd.read_csv(\"sample_data/mnist_test.csv\",header = None)\n"
      ],
      "execution_count": 0,
      "outputs": []
    },
    {
      "cell_type": "code",
      "metadata": {
        "id": "B_gJ0iAN1tbt",
        "colab_type": "code",
        "colab": {}
      },
      "source": [
        "y_train = df1[0]"
      ],
      "execution_count": 0,
      "outputs": []
    },
    {
      "cell_type": "code",
      "metadata": {
        "id": "xMMBXIci1xq8",
        "colab_type": "code",
        "colab": {}
      },
      "source": [
        "y_test = df2[0]"
      ],
      "execution_count": 0,
      "outputs": []
    },
    {
      "cell_type": "code",
      "metadata": {
        "id": "CyR9poeA10f1",
        "colab_type": "code",
        "colab": {}
      },
      "source": [
        "x_train = df1.drop(0,axis = 1,inplace = False)"
      ],
      "execution_count": 0,
      "outputs": []
    },
    {
      "cell_type": "code",
      "metadata": {
        "id": "a_68APsx13wU",
        "colab_type": "code",
        "colab": {}
      },
      "source": [
        "x_test = df2.drop(0,axis = 1,inplace = False)"
      ],
      "execution_count": 0,
      "outputs": []
    },
    {
      "cell_type": "code",
      "metadata": {
        "id": "IYH6Ie9f162H",
        "colab_type": "code",
        "colab": {}
      },
      "source": [
        "model = knn()"
      ],
      "execution_count": 0,
      "outputs": []
    },
    {
      "cell_type": "code",
      "metadata": {
        "id": "I03Xc7Eb1_LE",
        "colab_type": "code",
        "colab": {}
      },
      "source": [
        "a = model.fit(x_train,y_train,3)"
      ],
      "execution_count": 0,
      "outputs": []
    },
    {
      "cell_type": "code",
      "metadata": {
        "id": "f652tY9X-WkM",
        "colab_type": "code",
        "outputId": "27a91869-439c-4e07-d6ec-6d9d2b2f0489",
        "colab": {
          "base_uri": "https://localhost:8080/",
          "height": 34
        }
      },
      "source": [
        "y_pred = model.predict(x_train)\n",
        "model.accuracy(y_pred,y_train)"
      ],
      "execution_count": 0,
      "outputs": [
        {
          "output_type": "execute_result",
          "data": {
            "text/plain": [
              "98.075"
            ]
          },
          "metadata": {
            "tags": []
          },
          "execution_count": 14
        }
      ]
    },
    {
      "cell_type": "code",
      "metadata": {
        "id": "LWaw7H-K9TU0",
        "colab_type": "code",
        "outputId": "330c9844-a8f3-4512-eda9-93b290e60820",
        "colab": {
          "base_uri": "https://localhost:8080/",
          "height": 34
        }
      },
      "source": [
        "y_pred = model.predict(x_test)\n",
        "model.accuracy(y_pred,y_test)"
      ],
      "execution_count": 0,
      "outputs": [
        {
          "output_type": "execute_result",
          "data": {
            "text/plain": [
              "95.95"
            ]
          },
          "metadata": {
            "tags": []
          },
          "execution_count": 15
        }
      ]
    },
    {
      "cell_type": "code",
      "metadata": {
        "id": "TDkS3HFOw1_g",
        "colab_type": "code",
        "colab": {
          "base_uri": "https://localhost:8080/",
          "height": 68
        },
        "outputId": "162965a5-0c30-4c03-cf30-7ab7c5494a78"
      },
      "source": [
        "from sklearn.neighbors import KNeighborsClassifier\n",
        "from sklearn import metrics\n",
        "knn = KNeighborsClassifier(n_neighbors = 3)\n",
        "knn.fit(x_train,y_train)"
      ],
      "execution_count": 8,
      "outputs": [
        {
          "output_type": "execute_result",
          "data": {
            "text/plain": [
              "KNeighborsClassifier(algorithm='auto', leaf_size=30, metric='minkowski',\n",
              "                     metric_params=None, n_jobs=None, n_neighbors=3, p=2,\n",
              "                     weights='uniform')"
            ]
          },
          "metadata": {
            "tags": []
          },
          "execution_count": 8
        }
      ]
    },
    {
      "cell_type": "code",
      "metadata": {
        "id": "65mQOkaHXfRi",
        "colab_type": "code",
        "colab": {}
      },
      "source": [
        "def accuracy(y_true,y_pred):                \n",
        "    m = len(y_true)\n",
        "    acc=0\n",
        "    for a in range(m):\n",
        "      if y_pred[a]==y_true[a]: acc+=1\n",
        "    return (acc*100)/m"
      ],
      "execution_count": 0,
      "outputs": []
    },
    {
      "cell_type": "code",
      "metadata": {
        "id": "qBY79UxlXrDB",
        "colab_type": "code",
        "colab": {
          "base_uri": "https://localhost:8080/",
          "height": 34
        },
        "outputId": "a37ec3fb-c0aa-4a85-aa2b-02669599e73f"
      },
      "source": [
        "y_pred = knn.predict(x_test)\n",
        "accuracy(y_pred,y_test)"
      ],
      "execution_count": 12,
      "outputs": [
        {
          "output_type": "execute_result",
          "data": {
            "text/plain": [
              "95.95"
            ]
          },
          "metadata": {
            "tags": []
          },
          "execution_count": 12
        }
      ]
    },
    {
      "cell_type": "code",
      "metadata": {
        "id": "Mcb6IuAvcAQy",
        "colab_type": "code",
        "colab": {}
      },
      "source": [
        ""
      ],
      "execution_count": 0,
      "outputs": []
    }
  ]
}