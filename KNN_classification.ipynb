{
  "nbformat": 4,
  "nbformat_minor": 0,
  "metadata": {
    "colab": {
      "name": "KNN_classification.ipynb",
      "provenance": [],
      "collapsed_sections": []
    },
    "kernelspec": {
      "name": "python3",
      "display_name": "Python 3"
    }
  },
  "cells": [
    {
      "cell_type": "code",
      "metadata": {
        "id": "ChORYUC_GSbq",
        "colab_type": "code",
        "colab": {}
      },
      "source": [
        "import numpy as np"
      ],
      "execution_count": 0,
      "outputs": []
    },
    {
      "cell_type": "code",
      "metadata": {
        "id": "vVkju-kzHeiE",
        "colab_type": "code",
        "colab": {}
      },
      "source": [
        "import pandas as pd"
      ],
      "execution_count": 0,
      "outputs": []
    },
    {
      "cell_type": "code",
      "metadata": {
        "id": "gLaS_6qPHp37",
        "colab_type": "code",
        "colab": {}
      },
      "source": [
        "import matplotlib.pyplot as plt"
      ],
      "execution_count": 0,
      "outputs": []
    },
    {
      "cell_type": "code",
      "metadata": {
        "id": "ULq6stJIyIz7",
        "colab_type": "code",
        "colab": {}
      },
      "source": [
        "from scipy import stats"
      ],
      "execution_count": 0,
      "outputs": []
    },
    {
      "cell_type": "code",
      "metadata": {
        "id": "tvlLQo5aHuID",
        "colab_type": "code",
        "colab": {}
      },
      "source": [
        "class knn(object):\n",
        "\n",
        "  def fit(self,x_train,y_train,k):\n",
        "    self.k = k\n",
        "    X = np.array(x_train)\n",
        "    y = np.array(y_train)\n",
        "    m = X.shape[0]\n",
        "    z=0\n",
        "    y_pred = np.zeros((m,1))\n",
        "    for a in range(m):\n",
        "      dist = np.sum((X-X[a,:])**2,axis=1)\n",
        "      dist = np.vstack((dist,y))\n",
        "      dist = np.delete(dist,a,axis=1)\n",
        "      b = np.argsort(dist[0,:])\n",
        "      l = b[0:self.k]\n",
        "      y_pred[a] = stats.mode(dist[1,l]).mode\n",
        "    return y_pred\n",
        "\n",
        "  def predict(self,x_train,y_train,x_test):\n",
        "    X = np.array(x_train)\n",
        "    y = np.array(y_train)\n",
        "    x = np.array(x_test)\n",
        "    m = x.shape[0]\n",
        "    y_pred = np.zeros((m,1))\n",
        "    for a in range(m):\n",
        "      l=[]\n",
        "      dist = np.sum((X-x[a,:])**2,axis=1)\n",
        "      dist = np.vstack((dist,y))\n",
        "      b = np.argsort(dist[0,:])\n",
        "      l = b[0:self.k]\n",
        "      y_pred[a] = stats.mode(dist[1,l]).mode\n",
        "    return y_pred\n",
        "\n",
        "  def split_train_test(self,X,y,split):\n",
        "        m = size()\n",
        "        n = split*np.size(y,axis=0)\n",
        "        x_train = X[0:n,:]\n",
        "        x_test = X[n:,:]\n",
        "        y_train = y[0:n]\n",
        "        y_test = y[n:]\n",
        "        return x_train,x_test,y_train,y_test  \n",
        "\n",
        "  def accuracy(self,y_true,y_pred):\n",
        "    m = len(y_true)\n",
        "    acc=0\n",
        "    for a in range(m):\n",
        "      if y_pred[a]==y_true[a]: acc+=1\n",
        "    return (acc*100)/m"
      ],
      "execution_count": 0,
      "outputs": []
    },
    {
      "cell_type": "code",
      "metadata": {
        "id": "fYFbvg7QxL0K",
        "colab_type": "code",
        "colab": {}
      },
      "source": [
        "df1 = pd.read_csv(\"sample_data/mnist_train_small.csv\",header = None)"
      ],
      "execution_count": 0,
      "outputs": []
    },
    {
      "cell_type": "code",
      "metadata": {
        "id": "lvzoVe991qXd",
        "colab_type": "code",
        "colab": {}
      },
      "source": [
        "df2 = pd.read_csv(\"sample_data/mnist_test.csv\",header = None)\n"
      ],
      "execution_count": 0,
      "outputs": []
    },
    {
      "cell_type": "code",
      "metadata": {
        "id": "B_gJ0iAN1tbt",
        "colab_type": "code",
        "colab": {}
      },
      "source": [
        "y_train = df1[0]"
      ],
      "execution_count": 0,
      "outputs": []
    },
    {
      "cell_type": "code",
      "metadata": {
        "id": "xMMBXIci1xq8",
        "colab_type": "code",
        "colab": {}
      },
      "source": [
        "y_test = df2[0]"
      ],
      "execution_count": 0,
      "outputs": []
    },
    {
      "cell_type": "code",
      "metadata": {
        "id": "CyR9poeA10f1",
        "colab_type": "code",
        "colab": {}
      },
      "source": [
        "x_train = df1.drop(0,axis = 1,inplace = False)"
      ],
      "execution_count": 0,
      "outputs": []
    },
    {
      "cell_type": "code",
      "metadata": {
        "id": "a_68APsx13wU",
        "colab_type": "code",
        "colab": {}
      },
      "source": [
        "x_test = df2.drop(0,axis = 1,inplace = False)"
      ],
      "execution_count": 0,
      "outputs": []
    },
    {
      "cell_type": "code",
      "metadata": {
        "id": "IYH6Ie9f162H",
        "colab_type": "code",
        "colab": {}
      },
      "source": [
        "model = knn()"
      ],
      "execution_count": 0,
      "outputs": []
    },
    {
      "cell_type": "code",
      "metadata": {
        "id": "I03Xc7Eb1_LE",
        "colab_type": "code",
        "colab": {}
      },
      "source": [
        "a = model.fit(x_train,y_train,3)"
      ],
      "execution_count": 0,
      "outputs": []
    },
    {
      "cell_type": "code",
      "metadata": {
        "id": "f652tY9X-WkM",
        "colab_type": "code",
        "colab": {
          "base_uri": "https://localhost:8080/",
          "height": 34
        },
        "outputId": "4774b665-e1f5-43e6-d3da-4a3383c9ed02"
      },
      "source": [
        "model.accuracy(a,y_train)"
      ],
      "execution_count": 268,
      "outputs": [
        {
          "output_type": "execute_result",
          "data": {
            "text/plain": [
              "96.355"
            ]
          },
          "metadata": {
            "tags": []
          },
          "execution_count": 268
        }
      ]
    },
    {
      "cell_type": "code",
      "metadata": {
        "id": "LWaw7H-K9TU0",
        "colab_type": "code",
        "colab": {
          "base_uri": "https://localhost:8080/",
          "height": 34
        },
        "outputId": "b385b007-18ac-4d77-8bbb-d3f8c1d2899e"
      },
      "source": [
        "y_pred = model.predict(x_train,y_train,x_test)\n",
        "model.accuracy(y_pred,y_test)"
      ],
      "execution_count": 269,
      "outputs": [
        {
          "output_type": "execute_result",
          "data": {
            "text/plain": [
              "95.95"
            ]
          },
          "metadata": {
            "tags": []
          },
          "execution_count": 269
        }
      ]
    },
    {
      "cell_type": "code",
      "metadata": {
        "id": "DXYGTV6qE7vy",
        "colab_type": "code",
        "colab": {}
      },
      "source": [
        ""
      ],
      "execution_count": 0,
      "outputs": []
    }
  ]
}