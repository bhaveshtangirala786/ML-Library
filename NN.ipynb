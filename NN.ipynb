{
  "nbformat": 4,
  "nbformat_minor": 0,
  "metadata": {
    "colab": {
      "name": "NN.ipynb",
      "provenance": [],
      "collapsed_sections": []
    },
    "kernelspec": {
      "name": "python3",
      "display_name": "Python 3"
    }
  },
  "cells": [
    {
      "cell_type": "code",
      "metadata": {
        "id": "qR3rapSEngVP",
        "colab_type": "code",
        "colab": {}
      },
      "source": [
        "import numpy as np"
      ],
      "execution_count": 0,
      "outputs": []
    },
    {
      "cell_type": "code",
      "metadata": {
        "id": "7k1SJG0ynmlJ",
        "colab_type": "code",
        "colab": {}
      },
      "source": [
        "from math import e"
      ],
      "execution_count": 0,
      "outputs": []
    },
    {
      "cell_type": "code",
      "metadata": {
        "id": "RxLbMQOZnp9o",
        "colab_type": "code",
        "colab": {}
      },
      "source": [
        "import matplotlib.pyplot as plt"
      ],
      "execution_count": 0,
      "outputs": []
    },
    {
      "cell_type": "code",
      "metadata": {
        "id": "5JojmV_knxy8",
        "colab_type": "code",
        "colab": {}
      },
      "source": [
        "class neural_network(object):\n",
        "\n",
        "  #defining the sigmoid function\n",
        "  def sigmoid(self,x):\n",
        "    s = 1/(1+e**(-x))\n",
        "    return s\n",
        "\n",
        "  #training the model with default values of learning rate,iterations and regularisation parameter\n",
        "  def fit(self,x_train,y,k,layers,iter_count=1500,alpha=0.005,lamda=0):\n",
        "    x=np.array(x_train)\n",
        "    y=np.array(y)\n",
        "  #the no. of classes\n",
        "    self.k=k\n",
        "    m=x.shape[0]\n",
        "    n=x.shape[1]\n",
        "  #initialising weights\n",
        "    self.theta=[]\n",
        "    for a in range(len(layers)+1):\n",
        "      if a==0:\n",
        "        self.theta.append(np.random.randn(layers[a],n+1))\n",
        "      elif a<len(layers):\n",
        "        self.theta.append(np.random.randn(layers[a],layers[a-1]+1))\n",
        "      if a==len(layers):\n",
        "        self.theta.append(np.random.randn(self.k,layers[len(layers)-1]+1))\n",
        "    X=np.zeros((m,n))\n",
        "  #normalising the data\n",
        "    for a in range(n):\n",
        "      X[:,a]=(x[:,a]-np.mean(x[:,a]))/(np.std(x[:,a])+1e-09)\n",
        "    X=np.hstack((np.ones((m,1)),X))\n",
        "    Y=np.zeros((m,self.k))\n",
        "  #converting y into one Vs all type\n",
        "    for a in range(m):\n",
        "      Y[a,y[a]]=1 \n",
        "    self.l=[]\n",
        "    self.p=[]\n",
        "    a=100\n",
        "  #mini-batch gradient descent\n",
        "    for b in range(iter_count):\n",
        "      for i in range(int(m/a)):\n",
        "        cost_func=0\n",
        "        delta=[]\n",
        "        Delta=[]\n",
        "        D=[]\n",
        "        act=[]\n",
        "  #creating the delta matrices and gradient matrices\n",
        "        for c in range(len(layers)+1):\n",
        "            if c==0:\n",
        "              Delta.append(np.zeros((layers[c],n+1)))\n",
        "              D.append(np.zeros((layers[c],n+1)))\n",
        "            elif c<len(layers):\n",
        "              Delta.append(np.zeros((layers[c],layers[c-1]+1)))\n",
        "              D.append(np.zeros((layers[c],layers[c-1]+1)))\n",
        "            if c==len(layers):\n",
        "              Delta.append(np.zeros((self.k,layers[c-1]+1)))\n",
        "              D.append(np.zeros((self.k,layers[c-1]+1)))\n",
        "            theta1 = self.theta[c]\n",
        "  #calculating the cost function\n",
        "            cost_func += (lamda/(2*a))*np.sum(theta1[:,1:]**2)\n",
        "  #forward propagation to find all activations and hypothesis\n",
        "        for j in range(len(layers)+1):\n",
        "          theta1 = np.array(self.theta[j])\n",
        "          if j==0: \n",
        "           a1 = X[i*a:i*a+a,:].T\n",
        "          else: \n",
        "            a1 = a2\n",
        "          z2 = np.dot(theta1,a1)\n",
        "          a2 = self.sigmoid(z2)\n",
        "          if j!=len(layers):\n",
        "            a2 = np.vstack((np.ones((1,a)),a2))\n",
        "          act.append(a2)\n",
        "        y1 = Y[i*a:i*a+a,:].T\n",
        "        h=act[len(act)-1]\n",
        "        cost_func += -(np.sum(y1*np.log(h)+(1-y1)*np.log(1-h)))/a\n",
        "  #calculating delta vector for backward propagation\n",
        "        deltan = h-y1\n",
        "  #backward propagation to find gradients\n",
        "        for j in range(len(layers),0,-1):\n",
        "          theta2 = self.theta[j] \n",
        "          a2 = act[j-1]\n",
        "          if j==len(layers):\n",
        "            delta3 = deltan\n",
        "          else:\n",
        "            delta3 = delta2\n",
        "          delta2 = np.dot(theta2[:,1:].T,delta3)*(a2[1:,:]*(1-a2[1:,:]))\n",
        "          Delta[j] += np.dot(delta3,a2.T)\n",
        "        Delta[0] += np.dot(delta2,X[i*a:i*a+a,:])\n",
        "  #updating all the theta matrices using calculated gradients\n",
        "        for j in range(len(layers)+1):\n",
        "          thetax = self.theta[j]\n",
        "          thetax[:,0] = 0\n",
        "          D[j] = Delta[j]/a + (lamda/a)*thetax\n",
        "          self.theta[j] = self.theta[j] - alpha*D[j]\n",
        "      self.l.append(cost_func)\n",
        "      self.p.append(b)\n",
        "\n",
        "  #prints all the theta matrices\n",
        "  def get_params(self):\n",
        "    for i in range(len(self.theta)):\n",
        "      print(self.theta[i])\n",
        "\n",
        "  #predicting the classes based on trained model\n",
        "  def predict(self,x_test):\n",
        "    x=np.array(x_test)\n",
        "    m=x.shape[0]\n",
        "    n=x.shape[1]\n",
        "    X=np.zeros((m,n))\n",
        "  #normalisation\n",
        "    for a in range(n):\n",
        "      X[:,a]=(x[:,a]-np.mean(x[:,a]))/(np.std(x[:,a])+1e-09)\n",
        "    X=np.hstack((np.ones((m,1)),X))\n",
        "    y_pred = np.zeros((m,1))\n",
        "    a=100\n",
        "  #mini batch for calculating the hypothesis by forward propagation\n",
        "    for i in range(int(m/a)):\n",
        "        for j in range(len(self.theta)):\n",
        "          theta1 = np.array(self.theta[j])\n",
        "          if j==0: \n",
        "           a1 = X[i*a:i*a+a,:].T\n",
        "          else: \n",
        "            a1 = a2\n",
        "          z2 = np.dot(theta1,a1)\n",
        "          a2 = self.sigmoid(z2)\n",
        "          if j!=len(self.theta)-1:\n",
        "            a2 = np.vstack((np.ones((1,a)),a2))\n",
        "          if j==len(self.theta)-1:\n",
        "            h = a2;\n",
        "        y_pred[i*a:i*a+a] = np.argmax(h,axis=0).reshape((a,1))\n",
        "  #returning predicted classes\n",
        "    return y_pred\n",
        "\n",
        "  #classifies a prediction as correct only if it is equal to the original class\n",
        "  def accuracy(self,y_pred,y_true):                                             \n",
        "      p = 0\n",
        "      m = len(y_true)\n",
        "      for a in range(m):                                                        \n",
        "        if y_true[a]==y_pred[a]:                \n",
        "          p+=1\n",
        "      return (p*100)/m\n",
        "\n",
        "  #splits the data into training set and testing set based on input split fraction\n",
        "  def split_train_test(self,X,y,split):                                         \n",
        "        m = size()\n",
        "        n = split*np.size(y,axis=0)\n",
        "        x_train = X[0:n,:]\n",
        "        x_test = X[n:,:]\n",
        "        y_train = y[0:n]\n",
        "        y_test = y[n:]\n",
        "        return x_train,x_test,y_train,y_test\n",
        "\n",
        "  #plots cost function versus the no. of iterations\n",
        "  def plot(self):\n",
        "    plt.plot(self.p,self.l)"
      ],
      "execution_count": 0,
      "outputs": []
    },
    {
      "cell_type": "code",
      "metadata": {
        "id": "JqWTiwEoWeT-",
        "colab_type": "code",
        "colab": {}
      },
      "source": [
        "import pandas as pd"
      ],
      "execution_count": 0,
      "outputs": []
    },
    {
      "cell_type": "code",
      "metadata": {
        "id": "6Y5fyLEdYlWy",
        "colab_type": "code",
        "colab": {}
      },
      "source": [
        "df1 = pd.read_csv(\"sample_data/mnist_train_small.csv\",header = None)"
      ],
      "execution_count": 0,
      "outputs": []
    },
    {
      "cell_type": "code",
      "metadata": {
        "id": "IrMRy-TNYn1N",
        "colab_type": "code",
        "colab": {}
      },
      "source": [
        "df2 = pd.read_csv(\"sample_data/mnist_test.csv\",header = None)"
      ],
      "execution_count": 0,
      "outputs": []
    },
    {
      "cell_type": "code",
      "metadata": {
        "id": "xEKo44tUYppf",
        "colab_type": "code",
        "colab": {}
      },
      "source": [
        "y_train = df1[0]"
      ],
      "execution_count": 0,
      "outputs": []
    },
    {
      "cell_type": "code",
      "metadata": {
        "id": "dcHu3TkzYsxT",
        "colab_type": "code",
        "colab": {}
      },
      "source": [
        "y_test = df2[0]"
      ],
      "execution_count": 0,
      "outputs": []
    },
    {
      "cell_type": "code",
      "metadata": {
        "id": "DrinKTkZYvMO",
        "colab_type": "code",
        "colab": {}
      },
      "source": [
        "x_train = df1.drop(0,axis = 1,inplace = False)\n"
      ],
      "execution_count": 0,
      "outputs": []
    },
    {
      "cell_type": "code",
      "metadata": {
        "id": "XBBUnhKiYw9B",
        "colab_type": "code",
        "colab": {}
      },
      "source": [
        "x_test = df2.drop(0,axis= 1,inplace = False)"
      ],
      "execution_count": 0,
      "outputs": []
    },
    {
      "cell_type": "code",
      "metadata": {
        "id": "zRy_BuARYzv3",
        "colab_type": "code",
        "colab": {}
      },
      "source": [
        "model = neural_network()"
      ],
      "execution_count": 0,
      "outputs": []
    },
    {
      "cell_type": "code",
      "metadata": {
        "id": "nfZ-xA2pY2g8",
        "colab_type": "code",
        "colab": {}
      },
      "source": [
        "model.fit(x_train,y_train,10,(20,20,10,20,),0.05,0.15)"
      ],
      "execution_count": 0,
      "outputs": []
    },
    {
      "cell_type": "code",
      "metadata": {
        "id": "idY9PcLsY-Mi",
        "colab_type": "code",
        "outputId": "1adb58d6-8006-44aa-f9ab-12230c910344",
        "colab": {
          "base_uri": "https://localhost:8080/",
          "height": 268
        }
      },
      "source": [
        "model.plot()"
      ],
      "execution_count": 0,
      "outputs": [
        {
          "output_type": "display_data",
          "data": {
            "image/png": "[encoded data removed]",
            "text/plain": [
              "<Figure size 432x288 with 1 Axes>"
            ]
          },
          "metadata": {
            "tags": []
          }
        }
      ]
    },
    {
      "cell_type": "code",
      "metadata": {
        "id": "Xyt4l4771pgq",
        "colab_type": "code",
        "outputId": "f928e43b-6637-4cfc-e06b-f49d889cbc42",
        "colab": {
          "base_uri": "https://localhost:8080/",
          "height": 35
        }
      },
      "source": [
        "y_pred = model.predict(x_train)\n",
        "model.accuracy(y_pred,y_train)"
      ],
      "execution_count": 0,
      "outputs": [
        {
          "output_type": "execute_result",
          "data": {
            "text/plain": [
              "98.325"
            ]
          },
          "metadata": {
            "tags": []
          },
          "execution_count": 253
        }
      ]
    },
    {
      "cell_type": "code",
      "metadata": {
        "id": "qViKeQ-e125G",
        "colab_type": "code",
        "outputId": "1b7ebcc5-2737-4db7-b2b5-7b623f78cb12",
        "colab": {
          "base_uri": "https://localhost:8080/",
          "height": 35
        }
      },
      "source": [
        "y_pred = model.predict(x_test)\n",
        "model.accuracy(y_pred,y_test)"
      ],
      "execution_count": 0,
      "outputs": [
        {
          "output_type": "execute_result",
          "data": {
            "text/plain": [
              "92.81"
            ]
          },
          "metadata": {
            "tags": []
          },
          "execution_count": 254
        }
      ]
    },
    {
      "cell_type": "code",
      "metadata": {
        "id": "s-99tfRVEpk3",
        "colab_type": "code",
        "colab": {
          "base_uri": "https://localhost:8080/",
          "height": 153
        },
        "outputId": "7ed70a09-5e1e-4b05-ade0-60d59f7b33d6"
      },
      "source": [
        "from sklearn.neural_network import MLPClassifier\n",
        "mlp = MLPClassifier(hidden_layer_sizes=(20,20,10,20,), max_iter=2000)\n",
        "mlp.fit(x_train,y_train)"
      ],
      "execution_count": 9,
      "outputs": [
        {
          "output_type": "execute_result",
          "data": {
            "text/plain": [
              "MLPClassifier(activation='relu', alpha=0.0001, batch_size='auto', beta_1=0.9,\n",
              "              beta_2=0.999, early_stopping=False, epsilon=1e-08,\n",
              "              hidden_layer_sizes=(20, 20, 10, 20), learning_rate='constant',\n",
              "              learning_rate_init=0.001, max_fun=15000, max_iter=2000,\n",
              "              momentum=0.9, n_iter_no_change=10, nesterovs_momentum=True,\n",
              "              power_t=0.5, random_state=None, shuffle=True, solver='adam',\n",
              "              tol=0.0001, validation_fraction=0.1, verbose=False,\n",
              "              warm_start=False)"
            ]
          },
          "metadata": {
            "tags": []
          },
          "execution_count": 9
        }
      ]
    },
    {
      "cell_type": "code",
      "metadata": {
        "id": "rX0d90yEP52z",
        "colab_type": "code",
        "colab": {}
      },
      "source": [
        "y_pred = mlp.predict(x_test)"
      ],
      "execution_count": 0,
      "outputs": []
    },
    {
      "cell_type": "code",
      "metadata": {
        "id": "4E-43cfbQMab",
        "colab_type": "code",
        "colab": {}
      },
      "source": [
        "def accuracy(y_pred,y_true):                                             \n",
        "      p = 0\n",
        "      m = len(y_true)\n",
        "      for a in range(m):                                                        \n",
        "        if y_true[a]==y_pred[a]:                \n",
        "          p+=1\n",
        "      return (p*100)/m"
      ],
      "execution_count": 0,
      "outputs": []
    },
    {
      "cell_type": "code",
      "metadata": {
        "id": "P0_4J-1eQPQK",
        "colab_type": "code",
        "colab": {
          "base_uri": "https://localhost:8080/",
          "height": 34
        },
        "outputId": "85edd25f-abf7-400c-b71b-e80a0db4c5c4"
      },
      "source": [
        "accuracy(y_pred,y_test)"
      ],
      "execution_count": 16,
      "outputs": [
        {
          "output_type": "execute_result",
          "data": {
            "text/plain": [
              "92.21"
            ]
          },
          "metadata": {
            "tags": []
          },
          "execution_count": 16
        }
      ]
    },
    {
      "cell_type": "code",
      "metadata": {
        "id": "W1NP0iKKQYNq",
        "colab_type": "code",
        "colab": {}
      },
      "source": [
        ""
      ],
      "execution_count": 0,
      "outputs": []
    }
  ]
}